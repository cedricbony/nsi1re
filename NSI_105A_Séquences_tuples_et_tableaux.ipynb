{
  "nbformat": 4,
  "nbformat_minor": 0,
  "metadata": {
    "colab": {
      "name": "NSI#105A - Séquences : tuples et tableaux",
      "provenance": [],
      "collapsed_sections": [],
      "toc_visible": true,
      "authorship_tag": "ABX9TyN8Z/di5fTP0F27XxmKBpD6",
      "include_colab_link": true
    },
    "kernelspec": {
      "name": "python3",
      "display_name": "Python 3"
    }
  },
  "cells": [
    {
      "cell_type": "markdown",
      "metadata": {
        "id": "view-in-github",
        "colab_type": "text"
      },
      "source": [
        "<a href=\"https://colab.research.google.com/github/cedricbony/nsi1re/blob/main/NSI_105A_S%C3%A9quences_tuples_et_tableaux.ipynb\" target=\"_parent\"><img src=\"https://colab.research.google.com/assets/colab-badge.svg\" alt=\"Open In Colab\"/></a>"
      ]
    },
    {
      "cell_type": "markdown",
      "metadata": {
        "id": "S64dNUh5HNJ6"
      },
      "source": [
        "# NSI#105A - Séquences : tuples et tableaux"
      ]
    },
    {
      "cell_type": "markdown",
      "metadata": {
        "id": "edVy6VMoHfju"
      },
      "source": [
        "Il est possible de \"stocker\" **plusieurs valeurs dans une même structure**, ce type de structure est appelé une **séquence**. \n",
        "\n",
        "De façon plus précise, nous définirons une séquence comme un ensemble fini et ordonné d'éléments indicés de 0 à n-1 (si cette séquence comporte n éléments). Rassurez-vous, nous reviendrons ci- dessous sur cette définition. Nous allons étudier plus particulièrement 2 types de séquences : les **tuples** et les **tableaux** (il en existe d'autres que nous n'évoquerons pas ici)."
      ]
    },
    {
      "cell_type": "markdown",
      "metadata": {
        "id": "S5rQbK9bHuRv"
      },
      "source": [
        "## Les tuples"
      ]
    },
    {
      "cell_type": "markdown",
      "metadata": {
        "id": "V4SgsA07LX7Q"
      },
      "source": [
        "### Définitions de base"
      ]
    },
    {
      "cell_type": "markdown",
      "metadata": {
        "id": "cmRGHG1rH0Dl"
      },
      "source": [
        "En voici un exemple très simple :"
      ]
    },
    {
      "cell_type": "code",
      "metadata": {
        "id": "CAwdJswoHDOf"
      },
      "source": [
        "mon_tuple = (5,8,6,9)"
      ],
      "execution_count": null,
      "outputs": []
    },
    {
      "cell_type": "markdown",
      "metadata": {
        "id": "123wAz0GH72v"
      },
      "source": [
        "Dans le code ci-dessus, la variable \"mon_tuple\" référence un tuple, ce tuple est constitué des entiers 5, 8, 6 et 9. Comme indiqué dans la définition, chaque élément du tuple est indicé (il possède un indice):\n",
        "* le premier élément du tuple (l'entier 5) possède l'indice 0\n",
        "* le deuxième élément du tuple (l'entier 8) possède l'indice 1\n",
        "* le troisième élément du tuple (l'entier 6) possède l'indice 2\n",
        "* le quatrième élément du tuple (l'entier 9) possède l'indice 3\n",
        "\n",
        "Comment accéder à l'élément d'indice i dans un tuple ?\n",
        "Simplement en utilisant la *notation entre crochets* :"
      ]
    },
    {
      "cell_type": "code",
      "metadata": {
        "id": "NacLlMmCIYUJ"
      },
      "source": [
        "# Pensez à exécuter la cellule plus haut avant celle-ci !\n",
        "a = mon_tuple[2]"
      ],
      "execution_count": null,
      "outputs": []
    },
    {
      "cell_type": "markdown",
      "metadata": {
        "id": "4WQIID_9I6Vi"
      },
      "source": [
        "🔸 Quelle est la valeur référencée par la variable `a` ? Vérifiez-le grâce à la console ci-dessous :"
      ]
    },
    {
      "cell_type": "code",
      "metadata": {
        "id": "6R7aNycVJHZW",
        "outputId": "4a2c1dd6-1849-4db8-9066-ddf544ef89a1",
        "colab": {
          "base_uri": "https://localhost:8080/",
          "height": 34
        }
      },
      "source": [
        "a"
      ],
      "execution_count": null,
      "outputs": [
        {
          "output_type": "execute_result",
          "data": {
            "text/plain": [
              "6"
            ]
          },
          "metadata": {
            "tags": []
          },
          "execution_count": 3
        }
      ]
    },
    {
      "cell_type": "markdown",
      "metadata": {
        "id": "9Gei3h65JGRF"
      },
      "source": [
        "**ATTENTION** : dans les séquences les indices **commencent toujours à 0** (le premier élément de la séquence a pour indice 0), oublier cette particularité est une source d'erreur \"classique\"."
      ]
    },
    {
      "cell_type": "markdown",
      "metadata": {
        "id": "1pQ8a6-YJYwJ"
      },
      "source": [
        "🔸 Complétez le code ci-dessous (en remplaçant les `..`) afin qu'après l'exécution de ce programme, la variable `a` référence l'entier 8"
      ]
    },
    {
      "cell_type": "code",
      "metadata": {
        "id": "dWxt1ikrJhbP"
      },
      "source": [
        "a = mon_tuple[..]"
      ],
      "execution_count": null,
      "outputs": []
    },
    {
      "cell_type": "markdown",
      "metadata": {
        "id": "hU1cuRFVJwJb"
      },
      "source": [
        "Un tuple ne contient pas forcément des nombres entiers, il peut aussi contenir des nombres décimaux, des chaînes de caractères, des booléens..."
      ]
    },
    {
      "cell_type": "markdown",
      "metadata": {
        "id": "OXpI5qH6J0CZ"
      },
      "source": [
        "🔸 Quel est le résultat attendu après l'exécution de ce programme ?\n",
        "Vérifiez votre hypothèse en le testant."
      ]
    },
    {
      "cell_type": "code",
      "metadata": {
        "id": "fbl97nIVJ5aR",
        "outputId": "e9757b35-1bc5-4c8b-aa4d-a89aa484b854",
        "colab": {
          "base_uri": "https://localhost:8080/",
          "height": 34
        }
      },
      "source": [
        "mon_tuple = (\"am\", \"Groot\", \"I\")\n",
        "print(mon_tuple[2] + \" \" + mon_tuple[0] + \" \" + mon_tuple[1] + \"!\")"
      ],
      "execution_count": null,
      "outputs": [
        {
          "output_type": "stream",
          "text": [
            "I am Groot!\n"
          ],
          "name": "stdout"
        }
      ]
    },
    {
      "cell_type": "markdown",
      "metadata": {
        "id": "ozl5tBQELeNo"
      },
      "source": [
        "### Propriétés des tuples"
      ]
    },
    {
      "cell_type": "markdown",
      "metadata": {
        "id": "-DkxZoG2KUXg"
      },
      "source": [
        "🔹 Grâce au tuple, une fonction peut renvoyer plusieurs valeurs :"
      ]
    },
    {
      "cell_type": "markdown",
      "metadata": {
        "id": "YCHTOFmGKYNt"
      },
      "source": [
        "🔸 Analysez et testez le code suivant :"
      ]
    },
    {
      "cell_type": "code",
      "metadata": {
        "id": "tBsHE19jKbvy",
        "outputId": "a1332307-80dc-446a-d591-79692a4fec74",
        "colab": {
          "base_uri": "https://localhost:8080/",
          "height": 34
        }
      },
      "source": [
        "def add(a, b):\n",
        "  c=a+b\n",
        "  return (a, b, c)      # Remarquez ce que renvoie la fonction\n",
        "valeurs = add(5, 8)\n",
        "print(f\"{valeurs[0]} + {valeurs[1]} = {valeurs[2]}\")"
      ],
      "execution_count": null,
      "outputs": [
        {
          "output_type": "stream",
          "text": [
            "5 + 8 = 13\n"
          ],
          "name": "stdout"
        }
      ]
    },
    {
      "cell_type": "markdown",
      "metadata": {
        "id": "nGG-d4ERKtY8"
      },
      "source": [
        "Il faut bien comprendre dans l'exemple ci- dessus que la variable `valeurs` référence un tuple (**puisque la fonction `add` renvoie un tuple**), d'où la notation entre crochets utilisée avec `valeurs` (`valeurs[1]`, ...)"
      ]
    },
    {
      "cell_type": "markdown",
      "metadata": {
        "id": "jQJek67-LwNA"
      },
      "source": [
        "🔹 Il est possible d'assigner à des variables les valeurs contenues dans un tuple :"
      ]
    },
    {
      "cell_type": "markdown",
      "metadata": {
        "id": "DPDXtdFJLzdt"
      },
      "source": [
        "🔸 Analysez cette ligne et associez à chaque variable la valeur qui lui est référencée : vérifiez-vous en les affichant."
      ]
    },
    {
      "cell_type": "code",
      "metadata": {
        "id": "CXOEPQhDL4YZ"
      },
      "source": [
        "a, b, c, d = (5, 8, 6, 9)"
      ],
      "execution_count": null,
      "outputs": []
    },
    {
      "cell_type": "markdown",
      "metadata": {
        "id": "MJZUirujMQQ2"
      },
      "source": [
        "## Les tableaux"
      ]
    },
    {
      "cell_type": "markdown",
      "metadata": {
        "id": "OItBT72IPkkc"
      },
      "source": [
        "### Définitions et propriétés"
      ]
    },
    {
      "cell_type": "markdown",
      "metadata": {
        "id": "HOc8a8dcMTLC"
      },
      "source": [
        "**ATTENTION** : Dans la suite nous allons employer le terme **tableau**. Pour parler de ces \"tableaux\" les concepteurs de Python ont choisi d'utiliser le terme de **list** (\"liste\" en français)."
      ]
    },
    {
      "cell_type": "markdown",
      "metadata": {
        "id": "oJfdhoFpMdh-"
      },
      "source": [
        "Pour éviter toute confusion, notamment par rapport à des notions qui seront abordées en terminale, le choix a été fait d'employer **tableau** à la place de **liste** (dans la documentation vous rencontrerez le terme *list*, cela ne doit pas vous pertuber !). **Une liste est**, de manière simplifiée, **un tableau ne possédant qu'une ligne**, et `n` colonnes (que l'on appelle **longueur**, ou **dimension**)."
      ]
    },
    {
      "cell_type": "markdown",
      "metadata": {
        "id": "hVwBk5cwMpT3"
      },
      "source": [
        "❤️ Il n'est **pas possible de modifier un tuple** après sa création (on parle d'**objet immuable**). Si vous essayez de modifier un tuple existant, l'interpréteur Python vous renverra une erreur. \n",
        "\n",
        "**Les tableaux** sont,comme les tuples, des séquences, mais à la différence des tuples, ils **sont modifiables** (on parle d'objets **mutables**).\n",
        "Pour créer un tableau, il existe différentes méthodes : une de ces méthodes ressemble beaucoup à la création d'un tuple :"
      ]
    },
    {
      "cell_type": "code",
      "metadata": {
        "id": "kOwn7eY1MGcA"
      },
      "source": [
        "mon_tab = [5, 8, 6, 9, 12, 2]"
      ],
      "execution_count": null,
      "outputs": []
    },
    {
      "cell_type": "markdown",
      "metadata": {
        "id": "bLYf5NMHNDjA"
      },
      "source": [
        "Notez la présence des **crochets `[]`** à la place des parenthèses !"
      ]
    },
    {
      "cell_type": "markdown",
      "metadata": {
        "id": "TTrjyeaBCqLK"
      },
      "source": [
        "🔹 On peut aussi créer ce même tableau de cette façon :"
      ]
    },
    {
      "cell_type": "code",
      "metadata": {
        "id": "mZzn-niLCuXo",
        "outputId": "09fb3120-819e-4aac-e1ed-747278e1166d",
        "colab": {
          "base_uri": "https://localhost:8080/",
          "height": 34
        }
      },
      "source": [
        "mon_tab = [5] + [8,6,9] + [12,2]\n",
        "print(mon_tab)"
      ],
      "execution_count": null,
      "outputs": [
        {
          "output_type": "stream",
          "text": [
            "[5, 8, 6, 9, 12, 2]\n"
          ],
          "name": "stdout"
        }
      ]
    },
    {
      "cell_type": "markdown",
      "metadata": {
        "id": "gro_TriQC6uH"
      },
      "source": [
        "🔹 Et si c'est un tableau qui contient plein d'éléments identiques :"
      ]
    },
    {
      "cell_type": "code",
      "metadata": {
        "id": "8FYr3vB7DBAp",
        "outputId": "5f496357-ca62-409e-ba94-7b0585933ba5",
        "colab": {
          "base_uri": "https://localhost:8080/",
          "height": 34
        }
      },
      "source": [
        "oui_tab = [\"Oui\"] * 10\n",
        "print(oui_tab)"
      ],
      "execution_count": null,
      "outputs": [
        {
          "output_type": "stream",
          "text": [
            "['Oui', 'Oui', 'Oui', 'Oui', 'Oui', 'Oui', 'Oui', 'Oui', 'Oui', 'Oui']\n"
          ],
          "name": "stdout"
        }
      ]
    },
    {
      "cell_type": "markdown",
      "metadata": {
        "id": "vUxYKzI2NLwC"
      },
      "source": [
        "🔹 Un tableau est une séquence, il est donc possible de \"récupérer\" un élément d'un tableau à l'aide de son indice (de la même manière que pour un tuple) :"
      ]
    },
    {
      "cell_type": "markdown",
      "metadata": {
        "id": "ImJP1AIwNTIr"
      },
      "source": [
        "🔸 Ecrire l'instruction permettant de récupérer la valeur 9 du tableau `mon_tab` créé précédemment."
      ]
    },
    {
      "cell_type": "code",
      "metadata": {
        "id": "KZucxrvqNdeo"
      },
      "source": [
        "# Soyez certain(e) d'exécuter la toute première cellule de code avant celle-ci !\n"
      ],
      "execution_count": null,
      "outputs": []
    },
    {
      "cell_type": "markdown",
      "metadata": {
        "id": "krnMC-P8NQvP"
      },
      "source": [
        "🔹 Il est possible de modifier un tableau à l'aide de la *notation entre crochets* :"
      ]
    },
    {
      "cell_type": "code",
      "metadata": {
        "id": "iUSrp825N3If",
        "outputId": "d8707c83-262a-4ae2-9888-d47a01a8f829",
        "colab": {
          "base_uri": "https://localhost:8080/",
          "height": 34
        }
      },
      "source": [
        "mon_tab[3] = 15\n",
        "print(mon_tab)"
      ],
      "execution_count": null,
      "outputs": [
        {
          "output_type": "stream",
          "text": [
            "[5, 8, 6, 15, 12, 2]\n"
          ],
          "name": "stdout"
        }
      ]
    },
    {
      "cell_type": "markdown",
      "metadata": {
        "id": "WrPA9xHsOAB8"
      },
      "source": [
        "Comme vous pouvez le constater avec l'exemple ci-dessus, l'élément d'indice 3 (le nombre entier 9) a bien été remplacé par le nombre entier 15."
      ]
    },
    {
      "cell_type": "markdown",
      "metadata": {
        "id": "XCqZaONyOj_0"
      },
      "source": [
        "🔸 Modifiez le premier élément (d'indice 0) de ce tableau par ce que vous voulez !"
      ]
    },
    {
      "cell_type": "code",
      "metadata": {
        "id": "U8EID159Or_V"
      },
      "source": [
        ""
      ],
      "execution_count": null,
      "outputs": []
    },
    {
      "cell_type": "markdown",
      "metadata": {
        "id": "VI5f7a9ROF5u"
      },
      "source": [
        "🔹 Il est aussi possible d'ajouter un élément en fin de tableau à l'aide de la méthode `append()` :"
      ]
    },
    {
      "cell_type": "code",
      "metadata": {
        "id": "hu6ECYSWOame",
        "outputId": "79d1e75e-d50f-4574-b3b0-68bb078d5943",
        "colab": {
          "base_uri": "https://localhost:8080/",
          "height": 34
        }
      },
      "source": [
        "mon_tab.append(28)\n",
        "print(mon_tab)"
      ],
      "execution_count": null,
      "outputs": [
        {
          "output_type": "stream",
          "text": [
            "[5, 8, 6, 15, 12, 2, 28]\n"
          ],
          "name": "stdout"
        }
      ]
    },
    {
      "cell_type": "markdown",
      "metadata": {
        "id": "-faO7gFhOtwC"
      },
      "source": [
        "🔸 Ajoutez ce que vous voulez à la fin de ce tableau :"
      ]
    },
    {
      "cell_type": "code",
      "metadata": {
        "id": "sUINK_iTOyc8"
      },
      "source": [
        ""
      ],
      "execution_count": null,
      "outputs": []
    },
    {
      "cell_type": "markdown",
      "metadata": {
        "id": "koSbU4OaO1pR"
      },
      "source": [
        "🔹 L'instruction `del` permet de supprimer un élément d'un tableau en utilisant son index :"
      ]
    },
    {
      "cell_type": "code",
      "metadata": {
        "id": "DlMTBnd1O5ot",
        "outputId": "c6caf239-8473-40a4-95b1-49ecde3ec889",
        "colab": {
          "base_uri": "https://localhost:8080/",
          "height": 34
        }
      },
      "source": [
        "del mon_tab[1]\n",
        "print(mon_tab)"
      ],
      "execution_count": null,
      "outputs": [
        {
          "output_type": "stream",
          "text": [
            "[5, 6, 15, 12, 2, 28]\n"
          ],
          "name": "stdout"
        }
      ]
    },
    {
      "cell_type": "markdown",
      "metadata": {
        "id": "7W9g1-H7PBuk"
      },
      "source": [
        "🔸 Supprimez n'importe quelle autre valeur de ce tableau :"
      ]
    },
    {
      "cell_type": "code",
      "metadata": {
        "id": "r4zIYfRjPA19"
      },
      "source": [
        ""
      ],
      "execution_count": null,
      "outputs": []
    },
    {
      "cell_type": "markdown",
      "metadata": {
        "id": "TgD4dI4uRxdJ"
      },
      "source": [
        "🔹 La méthode `pop()` supprime la dernière valeur du tableau :"
      ]
    },
    {
      "cell_type": "code",
      "metadata": {
        "id": "mXh1jjHnR8LL",
        "outputId": "ebd58ee0-ba28-4c80-c36d-afbd532d0a70",
        "colab": {
          "base_uri": "https://localhost:8080/",
          "height": 34
        }
      },
      "source": [
        "mon_tab.pop()\n",
        "print(mon_tab)"
      ],
      "execution_count": null,
      "outputs": [
        {
          "output_type": "stream",
          "text": [
            "[5, 6, 15, 12, 2]\n"
          ],
          "name": "stdout"
        }
      ]
    },
    {
      "cell_type": "markdown",
      "metadata": {
        "id": "Q7g9q8FjPLHZ"
      },
      "source": [
        "🔹 La fonction `len()` permet de connaitre le nombre d’éléments présents dans une séquence (tableau et tuple) :"
      ]
    },
    {
      "cell_type": "code",
      "metadata": {
        "id": "_YCatXBtPRKI"
      },
      "source": [
        "print(len(mon_tab))"
      ],
      "execution_count": null,
      "outputs": []
    },
    {
      "cell_type": "markdown",
      "metadata": {
        "id": "wI3EuXjVd7To"
      },
      "source": [
        "🔹 La méthode `sort()` permet de trier un tableau :"
      ]
    },
    {
      "cell_type": "code",
      "metadata": {
        "id": "hmaXx-W6eACD"
      },
      "source": [
        "mon_tab.sort()\n",
        "print(mon_tab)"
      ],
      "execution_count": null,
      "outputs": []
    },
    {
      "cell_type": "markdown",
      "metadata": {
        "id": "XfjbLj8o7mKe"
      },
      "source": [
        "🔹 Au contraire, la méthode `shuffle()` du module `random` permet de le désorganiser :"
      ]
    },
    {
      "cell_type": "code",
      "metadata": {
        "id": "eD140frv7s-o"
      },
      "source": [
        "import random\n",
        "random.shuffle(mon_tab)\n",
        "print(mon_tab)"
      ],
      "execution_count": null,
      "outputs": []
    },
    {
      "cell_type": "markdown",
      "metadata": {
        "id": "welkJFyleQnU"
      },
      "source": [
        "🔹 La méthode `reverse()` renverse l'ordre des éléments du tableau :"
      ]
    },
    {
      "cell_type": "code",
      "metadata": {
        "id": "QgqorQrteYC1"
      },
      "source": [
        "mon_tab.reverse()\n",
        "print(mon_tab)"
      ],
      "execution_count": null,
      "outputs": []
    },
    {
      "cell_type": "markdown",
      "metadata": {
        "id": "msRaJfSZ8V6e"
      },
      "source": [
        "🔹 On peut aussi extraire un échnatillon aléatoire de notre tableau avec la méthode `sample()` du module `random` :"
      ]
    },
    {
      "cell_type": "code",
      "metadata": {
        "id": "KYOSLL4O8fac"
      },
      "source": [
        "import random\n",
        "# Syntaxe : random.sample(tableau, nb d'éléments à extraire)\n",
        "extrait = random.sample(mon_tab, 2)\n",
        "print(extrait)"
      ],
      "execution_count": null,
      "outputs": []
    },
    {
      "cell_type": "markdown",
      "metadata": {
        "id": "yh025UHFPXj_"
      },
      "source": [
        "🤔 Une petite parenthèse : on pourrait s'interroger sur l'intérêt d'utiliser un tuple puisque le tableau permet plus de choses ! La réponse est simple : **les opérations sur les tuples (recherche, longueur, etc.) sont plus \"rapides\"**. Quand vous savez que votre tableau ne sera pas modifié, il est préférable d'utiliser un tuple à la place d'un tableau !"
      ]
    },
    {
      "cell_type": "markdown",
      "metadata": {
        "id": "ywAAFhcVQHF1"
      },
      "source": [
        "🔹 Un tableau, comme un tuple, peut contenir des données très diverses, et mixées : des entiers peuvent cotoyer des caractères ou des booléens :"
      ]
    },
    {
      "cell_type": "code",
      "metadata": {
        "id": "xat5Hy8uQSY7",
        "outputId": "ea9d58a4-1c7b-42da-e974-4e71aafa18b0",
        "colab": {
          "base_uri": "https://localhost:8080/",
          "height": 34
        }
      },
      "source": [
        "variable = 'idée'\n",
        "mix = [\"Deux\", 56, \"Youpi !\", variable, True ]\n",
        "print(mix)"
      ],
      "execution_count": null,
      "outputs": [
        {
          "output_type": "stream",
          "text": [
            "['Deux', 56, 'Youpi !', 'idée', True]\n"
          ],
          "name": "stdout"
        }
      ]
    },
    {
      "cell_type": "markdown",
      "metadata": {
        "id": "bggyLwj3QylJ"
      },
      "source": [
        "🔸 Ajoutez d'autres éléments variés à ce tableau, entraînez-vous à en supprimer, en modifier, et déterminez enfin sa longueur d'après ce que vous avez appris."
      ]
    },
    {
      "cell_type": "code",
      "metadata": {
        "id": "cN6uDSv5RLwQ"
      },
      "source": [
        ""
      ],
      "execution_count": null,
      "outputs": []
    },
    {
      "cell_type": "markdown",
      "metadata": {
        "id": "18rFqVR_PoLM"
      },
      "source": [
        "### La boucle `for` pour parcourir un tableau"
      ]
    },
    {
      "cell_type": "markdown",
      "metadata": {
        "id": "FJRIwm6XPxWQ"
      },
      "source": [
        "On peut parcourir chacun des éléments d'une séquence (tableau ou tuple) à l'aide d'une simple boucle `for` :"
      ]
    },
    {
      "cell_type": "code",
      "metadata": {
        "id": "TcEkf0JBP6Gr"
      },
      "source": [
        "for element in mix:\n",
        "  print(element)"
      ],
      "execution_count": null,
      "outputs": []
    },
    {
      "cell_type": "markdown",
      "metadata": {
        "id": "6_TQfQ2JRbVC"
      },
      "source": [
        "Quelques explications : comme son nom l'indique, la boucle `for` est une boucle ! Nous \"sortirons\" de la boucle une fois que tous les éléments du tableau `mix` auront été parcourus. La variable `element` est une variable qui prendra, à chaque passage dans la boucle, les valeurs du tableau. **Le choix du nom de cette variable est totalement arbitraire !** La preuve, exécutez le code ci-dessous :"
      ]
    },
    {
      "cell_type": "code",
      "metadata": {
        "id": "ByVmYeAAR7_d"
      },
      "source": [
        "for zurglubiblougaaa in mix:\n",
        "  print(zurglubiblougaaa)\n",
        "  \n",
        "# Mais bon...c'est moins pratique quand même..."
      ],
      "execution_count": null,
      "outputs": []
    },
    {
      "cell_type": "markdown",
      "metadata": {
        "id": "DFL6u9GPMU_M"
      },
      "source": [
        "🔹 Dans la boucle `for... in`, il est possible d’utiliser la fonction prédéfinie `range()` à la place d’un tableau d’entiers :"
      ]
    },
    {
      "cell_type": "code",
      "metadata": {
        "id": "Dfy0cKkHMf_N",
        "outputId": "01fb2327-bd96-4f2c-f24c-3a12b933f6fb",
        "colab": {
          "base_uri": "https://localhost:8080/",
          "height": 306
        }
      },
      "source": [
        "for element in range(0,5):\n",
        "  print(element)\n",
        "\n",
        "print(\"est strictement équivalent à :\")\n",
        "for element in [0,1,2,3,4]:\n",
        "  print(element)\n",
        "\n",
        "print(\"On peut aussi compter à l'envers (avec -1) mais attention aux bornes :\")\n",
        "for back in range(5,0,-1):\n",
        "  print(back)"
      ],
      "execution_count": null,
      "outputs": [
        {
          "output_type": "stream",
          "text": [
            "0\n",
            "1\n",
            "2\n",
            "3\n",
            "4\n",
            "est strictement équivalent à :\n",
            "0\n",
            "1\n",
            "2\n",
            "3\n",
            "4\n",
            "On peut aussi compter à l'envers (avec -1) mais attention aux bornes :\n",
            "5\n",
            "4\n",
            "3\n",
            "2\n",
            "1\n"
          ],
          "name": "stdout"
        }
      ]
    },
    {
      "cell_type": "markdown",
      "metadata": {
        "id": "kBE7oWYqM2-a"
      },
      "source": [
        "**ATTENTION** : si vous avez dans un programme `range(a,b)`, `a` est la borne **inférieure** et `b` a borne **supérieure**. Vous ne devez surtout pas perdre de vue que **la borne inférieure est incluse**, mais que **la borne supérieure est exclue**. On peut aussi préciser dans `range()` le pas d'incrémentation...qui peut être négatif si on veut compter à rebours !"
      ]
    },
    {
      "cell_type": "markdown",
      "metadata": {
        "id": "5AIo2piSNF_k"
      },
      "source": [
        "🔸 Ecrire différemment avec `range()` les listes suivantes :"
      ]
    },
    {
      "cell_type": "code",
      "metadata": {
        "id": "-_l0usUhNNu1"
      },
      "source": [
        "print(\"exercice 1 :\")\n",
        "'''\n",
        "for val in [0,1,2,3]:\n",
        "  print(val)\n",
        "'''\n",
        "print(\"exercice 2 :\")\n",
        "'''\n",
        "for single in [0]:\n",
        "  print(single)\n",
        "'''\n",
        "print(\"exercice 3 :\")\n",
        "'''\n",
        "for i in [4,6,8,10,12]:\n",
        "  print(i)\n",
        "'''\n",
        "print(\"exercice 4 :\")\n",
        "'''\n",
        "for back in [10, 9, 8, 7, 6, 5]:\n",
        "  print(back)\n",
        "'''\n",
        "print(\"exercice 5 :\")\n",
        "'''\n",
        "for cinq in [50,45,40,35,30]:\n",
        "  print(cinq)"
      ],
      "execution_count": null,
      "outputs": []
    },
    {
      "cell_type": "markdown",
      "metadata": {
        "id": "OQrPCIXoO4tk"
      },
      "source": [
        "🔹 Il est possible d'utiliser la méthode `range()` pour \"remplir\" un tableau, grâce à la méthode `append()` :"
      ]
    },
    {
      "cell_type": "markdown",
      "metadata": {
        "id": "WmMMZYyVPGL8"
      },
      "source": [
        "🔸 Proposez une boucle `for` qui, à partir d'un tableau vide, le remplit avec les 100 premiers entiers naturels, 0 exclu :"
      ]
    },
    {
      "cell_type": "code",
      "metadata": {
        "id": "bamusW_-PXIk"
      },
      "source": [
        "# Création d'un tableau vide 'tab' :\n",
        "tab = []\n"
      ],
      "execution_count": null,
      "outputs": []
    },
    {
      "cell_type": "markdown",
      "metadata": {
        "id": "tA-keHlgPqQ6"
      },
      "source": [
        "🔸 Ecrivez un programme qui remplit un tableau vide `pairs` avec tous les entiers naturels pairs (0 exclu) jusqu'à 50 inclus : "
      ]
    },
    {
      "cell_type": "code",
      "metadata": {
        "id": "2rtVCA63P-L9"
      },
      "source": [
        ""
      ],
      "execution_count": null,
      "outputs": []
    },
    {
      "cell_type": "markdown",
      "metadata": {
        "id": "YqWxAguvQItU"
      },
      "source": [
        "🔸 Ecrivez un programme qui simule le compte à rebours de lancement d'une fusée pendant les 10 dernières secondes, puis écrit \"Lift-off !\" à la fin :"
      ]
    },
    {
      "cell_type": "code",
      "metadata": {
        "id": "8SLtuINtQZMi"
      },
      "source": [
        ""
      ],
      "execution_count": null,
      "outputs": []
    },
    {
      "cell_type": "markdown",
      "metadata": {
        "id": "rBfTYurRQgRR"
      },
      "source": [
        "### Créer un tableau par compréhension"
      ]
    },
    {
      "cell_type": "markdown",
      "metadata": {
        "id": "wDigkzPeQkjX"
      },
      "source": [
        "🔹 Il est possible de remplir un tableau en une seule ligne, par la méthode dite de compréhension, que nous avons déjà aperçue dans un cours précédent :"
      ]
    },
    {
      "cell_type": "code",
      "metadata": {
        "id": "legf2eCyQzFB",
        "outputId": "e6de0b5b-4913-4290-a5a5-f6f196105e58",
        "colab": {
          "base_uri": "https://localhost:8080/",
          "height": 34
        }
      },
      "source": [
        "# création d'un tableau par compréhension :\n",
        "tableau_comp = [i for i in range(0,5)]\n",
        "\n",
        "\n",
        "# On obtient bien le même résultat en l'affichant :\n",
        "print(tableau_comp)"
      ],
      "execution_count": null,
      "outputs": [
        {
          "output_type": "stream",
          "text": [
            "[0, 1, 2, 3, 4]\n"
          ],
          "name": "stdout"
        }
      ]
    },
    {
      "cell_type": "markdown",
      "metadata": {
        "id": "E5VOi6SzRXYP"
      },
      "source": [
        "🔸 Ecrire un programme qui crée les 3 tableaux des applications précédentes (avec la méthode `range()`), mais cette fois-ci en compréhension :"
      ]
    },
    {
      "cell_type": "code",
      "metadata": {
        "id": "eFa-ifELRkRi"
      },
      "source": [
        "# Tableau tab des 100 premiers entiers naturels :\n",
        "\n",
        "# Tableau pairs jusqu'à 50 inclus :\n",
        "\n",
        "# Compte à rebours de 10 à 0 :\n",
        "\n"
      ],
      "execution_count": null,
      "outputs": []
    },
    {
      "cell_type": "markdown",
      "metadata": {
        "id": "5UFztNyYShQA"
      },
      "source": [
        "🔹 Les compréhensions de tableau permettent de rajouter une condition `if` :"
      ]
    },
    {
      "cell_type": "markdown",
      "metadata": {
        "id": "L682oqZkR9aP"
      },
      "source": [
        "🔸 Quel est le contenu du tableau référencé par la variable `tab` après l'exécution du programme ci-dessous ? (utilisez la console pour vérifier votre réponse).\n",
        "```\n",
        "l = [1, 7, 9, 15, 5, 20, 10, 8]\n",
        "tab = [p for p in l if p > 10]\n",
        "```"
      ]
    },
    {
      "cell_type": "code",
      "metadata": {
        "id": "L2kmxANjSN10"
      },
      "source": [
        ""
      ],
      "execution_count": null,
      "outputs": []
    },
    {
      "cell_type": "markdown",
      "metadata": {
        "id": "T3PgWx0jSQEQ"
      },
      "source": [
        "🔹 On peut aussi utiliser des opérateurs arithmétiques pour générer le tableau :"
      ]
    },
    {
      "cell_type": "markdown",
      "metadata": {
        "id": "U9a70S2SSW0h"
      },
      "source": [
        "🔸 Quel est le contenu du tableau référencé par la variable `carre` après l'exécution du programme ci-dessous ? (utilisez la console pour vérifier votre réponse).\n",
        "```\n",
        "l = [1, 7, 9, 15, 5, 20, 10, 8]\n",
        "carre = [p**2 for p in l if p < 10]\n",
        "```"
      ]
    },
    {
      "cell_type": "markdown",
      "metadata": {
        "id": "99pQ2KF9SqJ4"
      },
      "source": [
        "Comme vous pouvez le constater, la **compréhension de tableau** permet d'obtenir des combinaisons relativement complexes."
      ]
    },
    {
      "cell_type": "markdown",
      "metadata": {
        "id": "DI7BiXNpS5qX"
      },
      "source": [
        "🔸 Créer un tableau par compréhension, qui élève, à partir de la liste (du tableau) `l`, le **cube des nombres pairs** et le **carré des nombres impairs**. On appellera ce tableau `complexe`.\n",
        "\n",
        "```\n",
        "Aide à la syntaxe :\n",
        "La structure d'une condition par compréhension est :\n",
        "[f(x) if condition else g(x) for x in sequence]\n",
        "```\n",
        "\n"
      ]
    },
    {
      "cell_type": "code",
      "metadata": {
        "id": "A7PAsHzRTQN4"
      },
      "source": [
        ""
      ],
      "execution_count": null,
      "outputs": []
    },
    {
      "cell_type": "markdown",
      "metadata": {
        "id": "UxiDUavyUxME"
      },
      "source": [
        "### Les tableaux de tableaux"
      ]
    },
    {
      "cell_type": "markdown",
      "metadata": {
        "id": "2Hdc2QHYU03Y"
      },
      "source": [
        "**Chaque élément** d'un tableau peut aussi **être un tableau** ! On parle alors de **tableau de tableaux**. Voici un exemple de tableau de tableaux :"
      ]
    },
    {
      "cell_type": "code",
      "metadata": {
        "id": "fqbTA5d-VDSo"
      },
      "source": [
        "m = [[1, 3, 4], [5 ,6 ,8], [2, 1, 3], [7, 8, 15]]\n",
        "# Que l'on préfère souvent présenter ainsi :\n",
        "m = [[1, 3, 4],\n",
        "     [5, 6, 8],\n",
        "     [2, 1, 3],\n",
        "     [7, 8, 15]]"
      ],
      "execution_count": null,
      "outputs": []
    },
    {
      "cell_type": "markdown",
      "metadata": {
        "id": "RU0XEqb9VWe_"
      },
      "source": [
        "Nous obtenons ainsi quelque chose qui ressemble beaucoup à un \"objet mathématique\" très utilisé : **une matrice**.\n",
        "\n",
        "Il est évidemment possible d'utiliser les indices de position avec ces \"tableaux de tableaux\". Pour cela nous allons considérer notre tableau de tableaux comme une matrice, c'est à dire en utilisant les notions de \"ligne\" et de \"colonne\". Dans la matrice ci-dessus :\n",
        "\n",
        "En ce qui concerne les lignes :\n",
        "* `1, 3, 4` constituent la première ligne \n",
        "* `5, 6, 8` constituent la deuxième ligne \n",
        "* `2, 1, 3` constituent la troisième ligne \n",
        "* `7, 8, 15` constituent la quatrième ligne\n",
        "\n",
        "En ce qui concerne les colonnes :\n",
        "* `1, 5, 2, 7` constituent la première colonne \n",
        "* `3, 6, 1, 8` constituent la deuxième colonne \n",
        "* `4, 8, 3, 15` constituent la troisième colonne\n",
        "\n",
        "🔹 Pour cibler un élément particulier de la matrice, on utilise la notation avec \"doubles crochets\" : `m[ligne][colonne]` (sans perdre de vue que la première ligne et la première colonne ont pour indice 0 !)\n"
      ]
    },
    {
      "cell_type": "markdown",
      "metadata": {
        "id": "nKbbl6y_WC8O"
      },
      "source": [
        "🔸 Quelle est la valeur référencée par la variable `a` après l'exécution du programme ci-dessous ? (utilisez la console pour vérifier votre réponse).\n"
      ]
    },
    {
      "cell_type": "code",
      "metadata": {
        "id": "76FI-EZ3WPe2"
      },
      "source": [
        "a = m[1][2]"
      ],
      "execution_count": null,
      "outputs": []
    },
    {
      "cell_type": "markdown",
      "metadata": {
        "id": "aiOptLKgWcFT"
      },
      "source": [
        "🔸 Quel est le contenu du tableau référencé par la variable `m2` après l'exécution du programme ci-dessous ? (utilisez la console pour vérifier votre réponse)."
      ]
    },
    {
      "cell_type": "code",
      "metadata": {
        "id": "p1HvtIkbWhfb"
      },
      "source": [
        "m = [1, 2, 3]\n",
        "m2 = [m, m, m]\n",
        "m[0] = 100\n",
        "print(m2)"
      ],
      "execution_count": null,
      "outputs": []
    },
    {
      "cell_type": "markdown",
      "metadata": {
        "id": "YG63iAZ4WuQh"
      },
      "source": [
        "🔺 **ATTENTION** :Comme vous pouvez le constater, la modification du tableau référencé par la variable `m` entraine **la modification du tableau référencé par la variable `m2`** (alors que nous n'avons pas directement modifié le tableau référencé par `m2` !!!). Il faut donc être **très prudent** lors de ce genre de manipulation afin d'éviter des modifications non désirées."
      ]
    },
    {
      "cell_type": "markdown",
      "metadata": {
        "id": "AXWfDHGHXDZ2"
      },
      "source": [
        "🔹 Il est possible de parcourir l'ensemble des éléments d'une matrice à l'aide d'une double boucle `for` :"
      ]
    },
    {
      "cell_type": "code",
      "metadata": {
        "id": "aDnNCd5CXONG"
      },
      "source": [
        "m = [[1, 3, 4],\n",
        "     [5, 6, 8],\n",
        "     [2, 1, 3],\n",
        "     [7, 8, 15]]\n",
        "nb_colonne = 3\n",
        "nb_ligne = 4\n",
        "for i in range(0, nb_ligne):\n",
        "  for j in range(0, nb_colonne):\n",
        "    a = m[i][j]\n",
        "    print(a, end=\" \")"
      ],
      "execution_count": null,
      "outputs": []
    },
    {
      "cell_type": "markdown",
      "metadata": {
        "id": "Z5VUtCeKYcPC"
      },
      "source": [
        "🔸 Quelles modifications doit-on apporter à ce code si l'on veut lister les éléments de la matrice non pas par ligne d'abord, mais par colonne puis par ligne ? Testez-les ci-dessous :"
      ]
    },
    {
      "cell_type": "code",
      "metadata": {
        "id": "VWEkaB3PYuEf"
      },
      "source": [
        ""
      ],
      "execution_count": null,
      "outputs": []
    },
    {
      "cell_type": "markdown",
      "metadata": {
        "id": "Cr9-5AVdY8n8"
      },
      "source": [
        "🔸 Quelle fonction Python, déjà étudiée plus haut, permettrait d'éviter de créer une variable `nb_ligne` ?"
      ]
    },
    {
      "cell_type": "code",
      "metadata": {
        "id": "S9QkWSAzZJI2"
      },
      "source": [
        ""
      ],
      "execution_count": null,
      "outputs": []
    },
    {
      "cell_type": "markdown",
      "metadata": {
        "id": "9F3QBoqqZKAF"
      },
      "source": [
        "🔸 Créez, à l'aide de deux boucles ` for`, un tableau appelé `identite` qui crée **une matrice carrée** (même nombre de lignes que de colonnes, appelé **dimension**), ne comprenant que des 1 sur sa diagonale (le reste étant des 0) comme présenté sur cette image (la dimension peut être saisie par l'utilisateur):"
      ]
    },
    {
      "cell_type": "markdown",
      "metadata": {
        "id": "Sn7wH0apZ3L7"
      },
      "source": [
        "![Math_identify_matrix_3x3.png](data:image/png;base64,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)"
      ]
    },
    {
      "cell_type": "code",
      "metadata": {
        "id": "RLLirXjZZyLx"
      },
      "source": [
        "# Aides : \n",
        "# -------\n",
        "# - n'oubliez pas de créer chaque ligne avant d'ajouter les 0 et les 1,\n",
        "# - la methode append() sera ici très utile !\n",
        "\n",
        "\n"
      ],
      "execution_count": null,
      "outputs": []
    },
    {
      "cell_type": "markdown",
      "metadata": {
        "id": "gJCATCEVF3TH"
      },
      "source": [
        "### La copie de tableau : un faux ami !"
      ]
    },
    {
      "cell_type": "markdown",
      "metadata": {
        "id": "-4682wR2F-OE"
      },
      "source": [
        "🔺 La copie d’un tableau par l'opérateur **égal** `=` peut faire penser que la copie et son original sont deux éléments dissociés. \n",
        "\n",
        "**Ce n’est hélas pas le cas**, comme vous pouvez le constater :"
      ]
    },
    {
      "cell_type": "code",
      "metadata": {
        "id": "X3O-8TtaGOIq",
        "outputId": "2d5762ca-7d3a-465f-9166-28cc6a041c5b",
        "colab": {
          "base_uri": "https://localhost:8080/",
          "height": 51
        }
      },
      "source": [
        "tab_a = [1,2,3]\n",
        "tab_b = tab_a\n",
        "tab_b.append (4)\n",
        "print (f\"Tableau a: {tab_a}\")\n",
        "print (f\"Tableau b: {tab_b}\")"
      ],
      "execution_count": null,
      "outputs": [
        {
          "output_type": "stream",
          "text": [
            "Tableau a: [1, 2, 3, 4]\n",
            "Tableau b: [1, 2, 3, 4]\n"
          ],
          "name": "stdout"
        }
      ]
    },
    {
      "cell_type": "markdown",
      "metadata": {
        "id": "ZlO_My5xGldC"
      },
      "source": [
        "Pour réaliser une copie différenciée de l’orginale, il faut soit  soit faire la **copie à la main**, **utiliser le module `copy`** et sa fonction `deepcopy()`."
      ]
    },
    {
      "cell_type": "code",
      "metadata": {
        "id": "FndyHbuDGw7U"
      },
      "source": [
        "# Copie manuelle :\n",
        "tab_a = [1,2,3]\n",
        "tab_b = []\n",
        "\n",
        "for i in tab_a:\n",
        "  tab_b.append(i)\n",
        "\n",
        "# Test d'ajout d'un élément sur la copie b :\n",
        "tab_b.append (4)\n",
        "\n",
        "# Vérification que cela n'a pas modifié l'origine a :\n",
        "print (f\"Tableau a: {tab_a}\")\n",
        "print (f\"Tableau b: {tab_b}\")"
      ],
      "execution_count": null,
      "outputs": []
    },
    {
      "cell_type": "code",
      "metadata": {
        "id": "opWHsSIOHB93"
      },
      "source": [
        "# Module copy :\n",
        "import copy\n",
        "tab_a = [1,2,3]\n",
        "b = copy.deepcopy(tab_a)    \n",
        "# La fonction deppecopy() dissocie le tableau original tab_a\n",
        "\n",
        "# Même idée ici : on ajoute un élément à b et on vérifie que le tableau original n'a pas été modifié :\n",
        "tab_b.append (4)\n",
        "print (f\"Tableau a: {tab_a}\")\n",
        "print (f\"Tableau b: {tab_b}\")"
      ],
      "execution_count": null,
      "outputs": []
    },
    {
      "cell_type": "markdown",
      "metadata": {
        "id": "lO2ERvCGHlTH"
      },
      "source": [
        "**C'est un point très important**, qui, si on ne le sait pas, peut parfois provoquer des erreurs inattendues, voire des conséquences catastrophiques dans certains programmes (perte de données, entre autre, par modification d'une liste originale !)."
      ]
    }
  ]
}